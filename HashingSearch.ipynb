{
  "nbformat": 4,
  "nbformat_minor": 0,
  "metadata": {
    "colab": {
      "name": "HashingSearch.ipynb",
      "provenance": [],
      "collapsed_sections": [],
      "authorship_tag": "ABX9TyN0656Y+Xvii2pNciIk+DeQ",
      "include_colab_link": true
    },
    "kernelspec": {
      "name": "python3",
      "display_name": "Python 3"
    }
  },
  "cells": [
    {
      "cell_type": "markdown",
      "metadata": {
        "id": "view-in-github",
        "colab_type": "text"
      },
      "source": [
        "<a href=\"https://colab.research.google.com/github/vivian890810/Algorithm/blob/master/HashingSearch.ipynb\" target=\"_parent\"><img src=\"https://colab.research.google.com/assets/colab-badge.svg\" alt=\"Open In Colab\"/></a>"
      ]
    },
    {
      "cell_type": "markdown",
      "metadata": {
        "id": "JPXJvkcnBEMX"
      },
      "source": [
        "線性"
      ]
    },
    {
      "cell_type": "code",
      "metadata": {
        "id": "qGJOm0-eDq9X",
        "outputId": "1c4e6f6e-d295-4447-bfca-cb04660bfb1a",
        "colab": {
          "base_uri": "https://localhost:8080/",
          "height": 225
        }
      },
      "source": [
        "import random\n",
        "\n",
        "INDEXBOX=10 #雜湊表最大元素\n",
        "MAXNUM=7  #最大資料個數\n",
        "\n",
        "def print_data(data,max_number):\n",
        "  print('\\t',end='')\n",
        "  for i in range(max_number):\n",
        "    print('[%2d]'%data[i],end='')\n",
        "  print()\n",
        "\n",
        "def create_table(num,index):\n",
        "  tmp=num%INDEXBOX\n",
        "  while True:\n",
        "    if index[tmp]==-1:\n",
        "      index[tmp]=num\n",
        "      break\n",
        "    else:\n",
        "      tmp=(tmp+1)%INDEXBOX\n",
        "\n",
        "#Main\n",
        "index=[None]*INDEXBOX\n",
        "data=[None]*MAXNUM\n",
        "\n",
        "print('原始陣列值:')\n",
        "for i in range(MAXNUM):\n",
        "  data[i]=random.randint(1,20)\n",
        "for i in range(INDEXBOX):\n",
        "  index[i]=-1\n",
        "print_data(data,MAXNUM)\n",
        "\n",
        "print('雜湊表內容:')\n",
        "for i in range(MAXNUM):\n",
        "  create_table(data[i],index)\n",
        "  print(' %2d=>'%data[i],end='')\n",
        "  print_data(index,INDEXBOX)\n",
        "\n",
        "print('完成雜湊表:')\n",
        "print_data(index,INDEXBOX)"
      ],
      "execution_count": 5,
      "outputs": [
        {
          "output_type": "stream",
          "text": [
            "原始陣列值:\n",
            "\t[13][ 2][12][11][10][ 2][11]\n",
            "雜湊表內容:\n",
            " 13=>\t[-1][-1][-1][13][-1][-1][-1][-1][-1][-1]\n",
            "  2=>\t[-1][-1][ 2][13][-1][-1][-1][-1][-1][-1]\n",
            " 12=>\t[-1][-1][ 2][13][12][-1][-1][-1][-1][-1]\n",
            " 11=>\t[-1][11][ 2][13][12][-1][-1][-1][-1][-1]\n",
            " 10=>\t[10][11][ 2][13][12][-1][-1][-1][-1][-1]\n",
            "  2=>\t[10][11][ 2][13][12][ 2][-1][-1][-1][-1]\n",
            " 11=>\t[10][11][ 2][13][12][ 2][11][-1][-1][-1]\n",
            "完成雜湊表:\n",
            "\t[10][11][ 2][13][12][ 2][11][-1][-1][-1]\n"
          ],
          "name": "stdout"
        }
      ]
    },
    {
      "cell_type": "markdown",
      "metadata": {
        "id": "Z5rzjNa8D9OB"
      },
      "source": [
        "平方"
      ]
    },
    {
      "cell_type": "code",
      "metadata": {
        "id": "FxyJaly6EDuo",
        "outputId": "fbba192c-f0c7-4e07-8f00-e05b98690fb8",
        "colab": {
          "base_uri": "https://localhost:8080/",
          "height": 225
        }
      },
      "source": [
        "import random\n",
        "\n",
        "INDEXBOX=10 #雜湊表最大元素\n",
        "MAXNUM=7  #最大資料個數\n",
        "\n",
        "def print_data(data,max_number):\n",
        "  print('\\t',end='')\n",
        "  for i in range(max_number):\n",
        "    print('[%2d]'%data[i],end='')\n",
        "  print()\n",
        "  \n",
        "def create_table(num,index):\n",
        "  tmp=num%INDEXBOX\n",
        "  b=1\n",
        "  while True:\n",
        "    if index[tmp]==-1:\n",
        "      index[tmp]=num\n",
        "      break\n",
        "    else:\n",
        "      tmp=(tmp+b**2)%INDEXBOX\n",
        "      b=b+1\n",
        "#Main\n",
        "index=[None]*INDEXBOX\n",
        "data=[None]*MAXNUM\n",
        "\n",
        "print('原始陣列值:')\n",
        "for i in range(MAXNUM):\n",
        "  data[i]=random.randint(1,20)\n",
        "for i in range(INDEXBOX):\n",
        "  index[i]=-1\n",
        "print_data(data,MAXNUM)\n",
        "\n",
        "print('雜湊表內容:')\n",
        "for i in range(MAXNUM):\n",
        "  create_table(data[i],index)\n",
        "  print(' %2d=>'%data[i],end='')\n",
        "  print_data(index,INDEXBOX)\n",
        "\n",
        "print('完成雜湊表:')\n",
        "print_data(index,INDEXBOX)"
      ],
      "execution_count": 14,
      "outputs": [
        {
          "output_type": "stream",
          "text": [
            "原始陣列值:\n",
            "\t[ 5][ 9][12][13][ 7][12][10]\n",
            "雜湊表內容:\n",
            "  5=>\t[-1][-1][-1][-1][-1][ 5][-1][-1][-1][-1]\n",
            "  9=>\t[-1][-1][-1][-1][-1][ 5][-1][-1][-1][ 9]\n",
            " 12=>\t[-1][-1][12][-1][-1][ 5][-1][-1][-1][ 9]\n",
            " 13=>\t[-1][-1][12][13][-1][ 5][-1][-1][-1][ 9]\n",
            "  7=>\t[-1][-1][12][13][-1][ 5][-1][ 7][-1][ 9]\n",
            " 12=>\t[-1][-1][12][13][-1][ 5][12][ 7][-1][ 9]\n",
            " 10=>\t[10][-1][12][13][-1][ 5][12][ 7][-1][ 9]\n",
            "完成雜湊表:\n",
            "\t[10][-1][12][13][-1][ 5][12][ 7][-1][ 9]\n"
          ],
          "name": "stdout"
        }
      ]
    },
    {
      "cell_type": "markdown",
      "metadata": {
        "id": "ycMHIU4kEEyT"
      },
      "source": [
        "在雜湊"
      ]
    },
    {
      "cell_type": "code",
      "metadata": {
        "id": "dKDGZmLYEKDq",
        "outputId": "813da8b7-c1cb-4fdc-bc00-0f532a3fe428",
        "colab": {
          "base_uri": "https://localhost:8080/",
          "height": 225
        }
      },
      "source": [
        "import random\n",
        "\n",
        "INDEXBOX=10 #雜湊表最大元素\n",
        "MAXNUM=7  #最大資料個數\n",
        "\n",
        "def print_data(data,max_number):\n",
        "  print('\\t',end='')\n",
        "  for i in range(max_number):\n",
        "    print('[%2d]'%data[i],end='')\n",
        "  print()\n",
        "  \n",
        "def create_table(num,index):\n",
        "  tmp=num%INDEXBOX\n",
        "  b=1\n",
        "  while True:\n",
        "    if index[tmp]==-1:\n",
        "      index[tmp]=num\n",
        "      break\n",
        "    else:\n",
        "      tmp=(tmp+2*b)%INDEXBOX\n",
        "      b=b+1\n",
        "#Main\n",
        "index=[None]*INDEXBOX\n",
        "data=[None]*MAXNUM\n",
        "\n",
        "print('原始陣列值:')\n",
        "for i in range(MAXNUM):\n",
        "  data[i]=random.randint(1,20)\n",
        "for i in range(INDEXBOX):\n",
        "  index[i]=-1\n",
        "print_data(data,MAXNUM)\n",
        "\n",
        "print('雜湊表內容:')\n",
        "for i in range(MAXNUM):\n",
        "  create_table(data[i],index)\n",
        "  print(' %2d=>'%data[i],end='')\n",
        "  print_data(index,INDEXBOX)\n",
        "\n",
        "print('完成雜湊表:')\n",
        "print_data(index,INDEXBOX)"
      ],
      "execution_count": 17,
      "outputs": [
        {
          "output_type": "stream",
          "text": [
            "原始陣列值:\n",
            "\t[ 3][ 2][12][14][ 1][ 6][14]\n",
            "雜湊表內容:\n",
            "  3=>\t[-1][-1][-1][ 3][-1][-1][-1][-1][-1][-1]\n",
            "  2=>\t[-1][-1][ 2][ 3][-1][-1][-1][-1][-1][-1]\n",
            " 12=>\t[-1][-1][ 2][ 3][12][-1][-1][-1][-1][-1]\n",
            " 14=>\t[-1][-1][ 2][ 3][12][-1][14][-1][-1][-1]\n",
            "  1=>\t[-1][ 1][ 2][ 3][12][-1][14][-1][-1][-1]\n",
            "  6=>\t[-1][ 1][ 2][ 3][12][-1][14][-1][ 6][-1]\n",
            " 14=>\t[14][ 1][ 2][ 3][12][-1][14][-1][ 6][-1]\n",
            "完成雜湊表:\n",
            "\t[14][ 1][ 2][ 3][12][-1][14][-1][ 6][-1]\n"
          ],
          "name": "stdout"
        }
      ]
    }
  ]
}