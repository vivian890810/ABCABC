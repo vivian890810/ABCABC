{
  "nbformat": 4,
  "nbformat_minor": 0,
  "metadata": {
    "colab": {
      "name": "1202.ipynb",
      "provenance": [],
      "authorship_tag": "ABX9TyPdS5xEGXguIyYcGRyX71v0",
      "include_colab_link": true
    },
    "kernelspec": {
      "name": "python3",
      "display_name": "Python 3"
    }
  },
  "cells": [
    {
      "cell_type": "markdown",
      "metadata": {
        "id": "view-in-github",
        "colab_type": "text"
      },
      "source": [
        "<a href=\"https://colab.research.google.com/github/vivian890810/Algorithm/blob/master/1202.ipynb\" target=\"_parent\"><img src=\"https://colab.research.google.com/assets/colab-badge.svg\" alt=\"Open In Colab\"/></a>"
      ]
    },
    {
      "cell_type": "code",
      "metadata": {
        "colab": {
          "base_uri": "https://localhost:8080/"
        },
        "id": "hUjkveWxI39z",
        "outputId": "08dc3491-e475-4b42-e57c-6e4c4f4601df"
      },
      "source": [
        "#t=面積\n",
        "t = [25,20,5,1]\n",
        "#n=多少錢\n",
        "def change(t,n):\n",
        "  \n",
        "  m = [0 for _ in range(len(t))]\n",
        "  for i ,money in enumerate(t):\n",
        "   print(m)\n",
        "   m[i] = n // money\n",
        "   n= n % money\n",
        "  return m,n\n",
        "\n",
        "print(change(t,41))"
      ],
      "execution_count": 17,
      "outputs": [
        {
          "output_type": "stream",
          "text": [
            "[0, 0, 0, 0]\n",
            "[1, 0, 0, 0]\n",
            "[1, 0, 0, 0]\n",
            "[1, 0, 3, 0]\n",
            "([1, 0, 3, 1], 0)\n"
          ],
          "name": "stdout"
        }
      ]
    },
    {
      "cell_type": "code",
      "metadata": {
        "colab": {
          "base_uri": "https://localhost:8080/"
        },
        "id": "voGmPWS4MjUQ",
        "outputId": "12f88a7c-e378-4806-8a20-7dac273154b6"
      },
      "source": [
        "#t=面積\n",
        "t = [25,20,5,1]\n",
        "#n=多少錢\n",
        "def change(t,n):\n",
        "  \n",
        "  m = [0 for _ in range(len(t))]\n",
        "  for i ,money in enumerate(t):\n",
        "   print(m)\n",
        "   m[i] = n // money\n",
        "   n= n % money\n",
        "  return m,n\n",
        "a=int(input(\"輸入金額\"))\n",
        "print(change(t,a))"
      ],
      "execution_count": 18,
      "outputs": [
        {
          "output_type": "stream",
          "text": [
            "輸入金額200\n",
            "[0, 0, 0, 0]\n",
            "[8, 0, 0, 0]\n",
            "[8, 0, 0, 0]\n",
            "[8, 0, 0, 0]\n",
            "([8, 0, 0, 0], 0)\n"
          ],
          "name": "stdout"
        }
      ]
    }
  ]
}