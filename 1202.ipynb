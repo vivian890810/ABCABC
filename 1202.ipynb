{
  "nbformat": 4,
  "nbformat_minor": 0,
  "metadata": {
    "colab": {
      "name": "1202.ipynb",
      "provenance": [],
      "authorship_tag": "ABX9TyMvRXGctS7snZ1NlEnoFMTS",
      "include_colab_link": true
    },
    "kernelspec": {
      "name": "python3",
      "display_name": "Python 3"
    }
  },
  "cells": [
    {
      "cell_type": "markdown",
      "metadata": {
        "id": "view-in-github",
        "colab_type": "text"
      },
      "source": [
        "<a href=\"https://colab.research.google.com/github/vivian890810/Algorithm/blob/master/1202.ipynb\" target=\"_parent\"><img src=\"https://colab.research.google.com/assets/colab-badge.svg\" alt=\"Open In Colab\"/></a>"
      ]
    },
    {
      "cell_type": "markdown",
      "metadata": {
        "id": "Q9Q036crUEtN"
      },
      "source": [
        "找零錢題目\n"
      ]
    },
    {
      "cell_type": "markdown",
      "metadata": {
        "id": "TAf_VXjgOiWe"
      },
      "source": [
        "貪婪法"
      ]
    },
    {
      "cell_type": "code",
      "metadata": {
        "colab": {
          "base_uri": "https://localhost:8080/"
        },
        "id": "hUjkveWxI39z",
        "outputId": "08dc3491-e475-4b42-e57c-6e4c4f4601df"
      },
      "source": [
        "#t=面積\n",
        "t = [25,20,5,1]\n",
        "#n=多少錢\n",
        "def change(t,n):\n",
        "  \n",
        "  m = [0 for _ in range(len(t))]\n",
        "  for i ,money in enumerate(t):\n",
        "   print(m)\n",
        "   m[i] = n // money\n",
        "   n= n % money\n",
        "  return m,n\n",
        "\n",
        "print(change(t,41))"
      ],
      "execution_count": null,
      "outputs": [
        {
          "output_type": "stream",
          "text": [
            "[0, 0, 0, 0]\n",
            "[1, 0, 0, 0]\n",
            "[1, 0, 0, 0]\n",
            "[1, 0, 3, 0]\n",
            "([1, 0, 3, 1], 0)\n"
          ],
          "name": "stdout"
        }
      ]
    },
    {
      "cell_type": "markdown",
      "metadata": {
        "id": "HS6E6oaJOhb2"
      },
      "source": [
        "貪婪法"
      ]
    },
    {
      "cell_type": "code",
      "metadata": {
        "colab": {
          "base_uri": "https://localhost:8080/"
        },
        "id": "voGmPWS4MjUQ",
        "outputId": "12f88a7c-e378-4806-8a20-7dac273154b6"
      },
      "source": [
        "#t=面積\n",
        "t = [25,20,5,1]\n",
        "#n=多少錢\n",
        "def change(t,n):\n",
        "  \n",
        "  m = [0 for _ in range(len(t))]\n",
        "  for i ,money in enumerate(t):\n",
        "   print(m)\n",
        "   m[i] = n // money\n",
        "   n= n % money\n",
        "  return m,n\n",
        "a=int(input(\"輸入金額\"))\n",
        "print(change(t,a))"
      ],
      "execution_count": null,
      "outputs": [
        {
          "output_type": "stream",
          "text": [
            "輸入金額200\n",
            "[0, 0, 0, 0]\n",
            "[8, 0, 0, 0]\n",
            "[8, 0, 0, 0]\n",
            "[8, 0, 0, 0]\n",
            "([8, 0, 0, 0], 0)\n"
          ],
          "name": "stdout"
        }
      ]
    },
    {
      "cell_type": "markdown",
      "metadata": {
        "id": "OIB8mojBOq-m"
      },
      "source": [
        "動態法"
      ]
    },
    {
      "cell_type": "code",
      "metadata": {
        "id": "6n-tUJGcQj4P",
        "colab": {
          "base_uri": "https://localhost:8080/"
        },
        "outputId": "83c2dcb3-4ffd-43ab-ce37-a828878fe17d"
      },
      "source": [
        "\n",
        "def count(S, m, n ): \n",
        "\n",
        "\n",
        "\tif (n == 0): \n",
        "\t\treturn 1\n",
        "\n",
        "\n",
        "\tif (n < 0): \n",
        "\t\treturn 0; \n",
        "\n",
        "\tif (m <=0 and n >= 1): \n",
        "\t\treturn 0\n",
        "\n",
        "\treturn count( S, m - 1, n ) + count( S, m, n-S[m-1] ); \n",
        "\n",
        "arr = [25,20,5,1] \n",
        "m = len(arr)\n",
        "a=int(input(\"輸入金額\")) \n",
        "\n",
        "print(change(arr,a)) \n",
        "\n"
      ],
      "execution_count": 92,
      "outputs": [
        {
          "output_type": "stream",
          "text": [
            "輸入金額200\n",
            "[0, 0, 0, 0]\n",
            "[8, 0, 0, 0]\n",
            "[8, 0, 0, 0]\n",
            "[8, 0, 0, 0]\n",
            "([8, 0, 0, 0], 0)\n"
          ],
          "name": "stdout"
        }
      ]
    },
    {
      "cell_type": "markdown",
      "metadata": {
        "id": "Oe4N2XtAiQ_a"
      },
      "source": [
        "背包題目"
      ]
    },
    {
      "cell_type": "markdown",
      "metadata": {
        "id": "AsJCJ2xmcOc5"
      },
      "source": [
        "貪婪\n"
      ]
    },
    {
      "cell_type": "code",
      "metadata": {
        "colab": {
          "base_uri": "https://localhost:8080/"
        },
        "id": "e9KsshpXXVEj",
        "outputId": "101bc72f-fe5e-4560-a68d-10064df310b6"
      },
      "source": [
        "\n",
        "class itmcls(object):\n",
        "    def __init__(self, name, val, vol):\n",
        "        self.name = name\n",
        "        self.val = val\n",
        "        self.vol = vol\n",
        "        \n",
        "    def getvalue(self):\n",
        "        return self.val\n",
        "    \n",
        "    def getvol(self):\n",
        "        return self.vol\n",
        "    \n",
        "    def density(self):\n",
        "        return (self.val)/(self.vol)\n",
        "    \n",
        "    def __str__(self):\n",
        "        return self.name \n",
        " \n",
        "def buildbag(names, values, volumes):\n",
        "    bag = []\n",
        "    for i in range(len(names)):\n",
        "        bag.append(itmcls(names[i], values[i], volumes[i]))\n",
        "    return bag\n",
        "\n",
        "def greedy(items, maxvol, keyfunction):\n",
        "    itemscopy = sorted(items, key = keyfunction, reverse = True)\n",
        "    \n",
        "    result = []\n",
        "    totalval = 0 \n",
        "    totalvol = 0\n",
        "    \n",
        "    for i in range(len(items)):\n",
        "        if (totalvol + itemscopy[i].getvol() <= maxvol):\n",
        "            result.append(itemscopy[i])\n",
        "            totalval = totalval + itemscopy[i].getvalue()\n",
        "            totalvol = totalvol + itemscopy[i].getvol()\n",
        "            \n",
        "    return (result, totalval)\n",
        " \n",
        "\n",
        "itemlist = ['ps5', 'ipad pro12', 'macbook pro15', 'homepod', 'macmini']\n",
        "values = [17000,35000,60000,9000,20000]\n",
        "volumes = [5,1,4,3,2]\n",
        "itemlistt = buildbag(itemlist, values, volumes)\n",
        "maxvol = 10\n",
        " \n",
        "taken, totvalue = greedy(itemlistt, maxvol, itmcls.density)\n",
        " \n",
        "print('總價 : ', totvalue)\n",
        " \n",
        "\n",
        "for i in range(len(taken)):\n",
        "    print('  ', taken[i])\n",
        "\n",
        "\n",
        "\n",
        "\n",
        "\n",
        "\n",
        "\n",
        "\n"
      ],
      "execution_count": 89,
      "outputs": [
        {
          "output_type": "stream",
          "text": [
            "總價 :  124000\n",
            "   ipad pro12\n",
            "   macbook pro15\n",
            "   macmini\n",
            "   homepod\n"
          ],
          "name": "stdout"
        }
      ]
    },
    {
      "cell_type": "markdown",
      "metadata": {
        "id": "iXubGo3ch8WU"
      },
      "source": [
        "動態\n"
      ]
    },
    {
      "cell_type": "code",
      "metadata": {
        "colab": {
          "base_uri": "https://localhost:8080/"
        },
        "id": "rH65VJa2cMPG",
        "outputId": "5c687350-2b88-4dbf-97f6-fd128ca59955"
      },
      "source": [
        "def knapsack(p, w, v):\n",
        "    n = len(p)\n",
        "    lists,arr = [],[[0] * (v + 1) for _ in range(n + 1)]\n",
        "\n",
        "    for i in range(1, n + 1):\n",
        "        for j in range(1, v + 1):\n",
        "            if w[i - 1] <= j:  # 如果當前物品的體積不超過揹包的容量，p[i-1]當前物品的價值，w[i-1]當前物品的體積\n",
        "                arr[i][j] = max(arr[i - 1][j], p[i - 1] + arr[i - 1][j - w[i - 1]])\n",
        "            else: #如果當前物品的體積超過揹包的容量\n",
        "                arr[i][j] = arr[i - 1][j]\n",
        "    remain = v\n",
        "\n",
        "    for i in range(n, 0, -1):\n",
        "        if arr[i][remain] > arr[i - 1][remain]:\n",
        "            lists.append(i - 1)  # (i-1)為當前物品的編號\n",
        "            remain -= w[i - 1]  # 容積減去已經找到的物品，再次尋找\n",
        "\n",
        "    return arr[-1][-1], lists\n",
        "\n",
        "\n",
        "if __name__ == '__main__':\n",
        "    itemlist = ['ps5', 'ipad pro12', 'macbook pro15', 'homepod', 'macmini']\n",
        "    p = [17000,35000,60000,9000,20000]  # 物品的價值\n",
        "    w = [5,1,4,3,2] # 物品佔的體積\n",
        "    v = 10  # 揹包的容量\n",
        "    print(knapsack(p, w, v))"
      ],
      "execution_count": 90,
      "outputs": [
        {
          "output_type": "stream",
          "text": [
            "(124000, [4, 3, 2, 1])\n"
          ],
          "name": "stdout"
        }
      ]
    }
  ]
}