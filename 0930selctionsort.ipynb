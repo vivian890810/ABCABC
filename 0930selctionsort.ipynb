{
  "nbformat": 4,
  "nbformat_minor": 0,
  "metadata": {
    "colab": {
      "name": "0930selctionsort.ipynb",
      "provenance": [],
      "collapsed_sections": [],
      "include_colab_link": true
    },
    "kernelspec": {
      "name": "python3",
      "display_name": "Python 3"
    }
  },
  "cells": [
    {
      "cell_type": "markdown",
      "metadata": {
        "id": "view-in-github",
        "colab_type": "text"
      },
      "source": [
        "<a href=\"https://colab.research.google.com/github/vivian890810/ABCABC/blob/master/0930selctionsort.ipynb\" target=\"_parent\"><img src=\"https://colab.research.google.com/assets/colab-badge.svg\" alt=\"Open In Colab\"/></a>"
      ]
    },
    {
      "cell_type": "markdown",
      "metadata": {
        "id": "W-Z0kMaDLJOp"
      },
      "source": [
        "Selection sort (選擇排序)"
      ]
    },
    {
      "cell_type": "code",
      "metadata": {
        "id": "8tM3sv79HQ_V",
        "outputId": "50423c6a-11d8-45bc-f22a-586da3fd9fc1",
        "colab": {
          "base_uri": "https://localhost:8080/",
          "height": 357
        }
      },
      "source": [
        "def Selction_Sort(datas):\n",
        "    for i in range(len(datas)-1):                                  #n\n",
        "        min = i # 第一次選從第一個數開始,第二次從第二個數開始\n",
        "        for j in range(i+1, len(datas)):    # 用記錄的max數與其他的比較          #n平方\n",
        "            if datas[j] < datas[min]:\n",
        "                min = j                              \n",
        "\n",
        "        datas[i], datas[min] = datas[min], datas[i]                      #1(交換數值等於一次)\n",
        " \n",
        "        print(datas)\n",
        "        print('---'*10)\n",
        "    return datas                                           #1\n",
        "\n",
        "\n",
        "if __name__ == '__main__':                                       \n",
        "    import random\n",
        "    a = list(range(10))\n",
        "    random.shuffle(a)\n",
        "    print(a)\n",
        "    a = Selction_Sort(a)\n",
        "    print(a)"
      ],
      "execution_count": null,
      "outputs": [
        {
          "output_type": "stream",
          "text": [
            "[7, 1, 5, 4, 2, 8, 9, 3, 0, 6]\n",
            "[0, 1, 5, 4, 2, 8, 9, 3, 7, 6]\n",
            "------------------------------\n",
            "[0, 1, 5, 4, 2, 8, 9, 3, 7, 6]\n",
            "------------------------------\n",
            "[0, 1, 2, 4, 5, 8, 9, 3, 7, 6]\n",
            "------------------------------\n",
            "[0, 1, 2, 3, 5, 8, 9, 4, 7, 6]\n",
            "------------------------------\n",
            "[0, 1, 2, 3, 4, 8, 9, 5, 7, 6]\n",
            "------------------------------\n",
            "[0, 1, 2, 3, 4, 5, 9, 8, 7, 6]\n",
            "------------------------------\n",
            "[0, 1, 2, 3, 4, 5, 6, 8, 7, 9]\n",
            "------------------------------\n",
            "[0, 1, 2, 3, 4, 5, 6, 7, 8, 9]\n",
            "------------------------------\n",
            "[0, 1, 2, 3, 4, 5, 6, 7, 8, 9]\n",
            "------------------------------\n",
            "[0, 1, 2, 3, 4, 5, 6, 7, 8, 9]\n"
          ],
          "name": "stdout"
        }
      ]
    },
    {
      "cell_type": "markdown",
      "metadata": {
        "id": "MiWPt8bALDN5"
      },
      "source": [
        "請加入註解\n"
      ]
    }
  ]
}