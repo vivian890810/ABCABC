{
  "nbformat": 4,
  "nbformat_minor": 0,
  "metadata": {
    "colab": {
      "name": "1104.ipynb",
      "provenance": [],
      "collapsed_sections": [],
      "authorship_tag": "ABX9TyOkIUka2+Gx4jLkCXA5kRRU",
      "include_colab_link": true
    },
    "kernelspec": {
      "name": "python3",
      "display_name": "Python 3"
    }
  },
  "cells": [
    {
      "cell_type": "markdown",
      "metadata": {
        "id": "view-in-github",
        "colab_type": "text"
      },
      "source": [
        "<a href=\"https://colab.research.google.com/github/vivian890810/Algorithm/blob/master/1104.ipynb\" target=\"_parent\"><img src=\"https://colab.research.google.com/assets/colab-badge.svg\" alt=\"Open In Colab\"/></a>"
      ]
    },
    {
      "cell_type": "code",
      "metadata": {
        "id": "wmmyNT8dApPx",
        "outputId": "409910ee-6578-47a7-deba-0d245984f61d",
        "colab": {
          "base_uri": "https://localhost:8080/"
        }
      },
      "source": [
        "def factorial(n):\n",
        "   if n==1:\n",
        "     return 1\n",
        "   return n * f(n-1)\n",
        "def Hanoi(n , a, b, c):\n",
        "  if n==1:\n",
        "    print (\" 執行次數\", a, \"-->\", c)\n",
        "    return\n",
        "  Hanoi(n-1, a, c, b)\n",
        "  Hanoi(1, a, b, c)\n",
        "  Hanoi(n-1, b, a, c)\n",
        "\n",
        "Hanoi(1, 'A', 'B', 'C')\n",
        "\n",
        "Hanoi(2, 'A', 'B', 'C')\n",
        "\n",
        "Hanoi(3, 'A', 'B', 'C')\n",
        "\n",
        "Hanoi(4, 'A', 'B', 'C')\n",
        "\n",
        "Hanoi(5, 'A', 'B', 'C')\n",
        "\n"
      ],
      "execution_count": 1,
      "outputs": [
        {
          "output_type": "stream",
          "text": [
            " 執行次數 A --> C\n",
            " 執行次數 A --> B\n",
            " 執行次數 A --> C\n",
            " 執行次數 B --> C\n",
            " 執行次數 A --> C\n",
            " 執行次數 A --> B\n",
            " 執行次數 C --> B\n",
            " 執行次數 A --> C\n",
            " 執行次數 B --> A\n",
            " 執行次數 B --> C\n",
            " 執行次數 A --> C\n",
            " 執行次數 A --> B\n",
            " 執行次數 A --> C\n",
            " 執行次數 B --> C\n",
            " 執行次數 A --> B\n",
            " 執行次數 C --> A\n",
            " 執行次數 C --> B\n",
            " 執行次數 A --> B\n",
            " 執行次數 A --> C\n",
            " 執行次數 B --> C\n",
            " 執行次數 B --> A\n",
            " 執行次數 C --> A\n",
            " 執行次數 B --> C\n",
            " 執行次數 A --> B\n",
            " 執行次數 A --> C\n",
            " 執行次數 B --> C\n",
            " 執行次數 A --> C\n",
            " 執行次數 A --> B\n",
            " 執行次數 C --> B\n",
            " 執行次數 A --> C\n",
            " 執行次數 B --> A\n",
            " 執行次數 B --> C\n",
            " 執行次數 A --> C\n",
            " 執行次數 A --> B\n",
            " 執行次數 C --> B\n",
            " 執行次數 C --> A\n",
            " 執行次數 B --> A\n",
            " 執行次數 C --> B\n",
            " 執行次數 A --> C\n",
            " 執行次數 A --> B\n",
            " 執行次數 C --> B\n",
            " 執行次數 A --> C\n",
            " 執行次數 B --> A\n",
            " 執行次數 B --> C\n",
            " 執行次數 A --> C\n",
            " 執行次數 B --> A\n",
            " 執行次數 C --> B\n",
            " 執行次數 C --> A\n",
            " 執行次數 B --> A\n",
            " 執行次數 B --> C\n",
            " 執行次數 A --> C\n",
            " 執行次數 A --> B\n",
            " 執行次數 C --> B\n",
            " 執行次數 A --> C\n",
            " 執行次數 B --> A\n",
            " 執行次數 B --> C\n",
            " 執行次數 A --> C\n"
          ],
          "name": "stdout"
        }
      ]
    },
    {
      "cell_type": "code",
      "metadata": {
        "id": "UVKEqU64FjoX",
        "outputId": "c7e830f0-c4db-498a-ccc7-bd8b1d05d6bf",
        "colab": {
          "base_uri": "https://localhost:8080/"
        }
      },
      "source": [
        "from random import randint\n",
        "\n",
        "lowest = 1            #選取範圍\n",
        "highest = 100\n",
        "answer = randint(lowest, highest)\n",
        "\n",
        "while True:\n",
        "    guess = input('密碼介於 ' + str(lowest) + '-' + str(highest) + ':\\n>>')\n",
        "    \n",
        "    #檢查輸入的內容是否為數字\n",
        "    try:\n",
        "        guess = int(guess)  #把字串轉換成整數\n",
        "    except ValueError:  #轉換失敗便要求重新輸入數字\n",
        "        print('格式錯誤，請輸入數字\\n')\n",
        "        continue\n",
        "    \n",
        "    #檢查輸入的數字是否介於規定範圍內\n",
        "    if guess <= lowest or guess >= highest:\n",
        "        print('請輸入 ' + str(lowest) + '-' + str(highest) + ' 之間的整數\\n')\n",
        "        continue\n",
        "    \n",
        "    #判斷有沒有猜中密碼\n",
        "    if guess == answer:\n",
        "        print('答對了！')\n",
        "        break   #猜對才跳脫迴圈\n",
        "    elif guess < answer:\n",
        "        lowest = guess\n",
        "    else:\n",
        "        highest = guess"
      ],
      "execution_count": 2,
      "outputs": [
        {
          "output_type": "stream",
          "text": [
            "密碼介於 1-100:\n",
            ">>20\n",
            "密碼介於 20-100:\n",
            ">>50\n",
            "密碼介於 50-100:\n",
            ">>40\n",
            "請輸入 50-100 之間的整數\n",
            "\n",
            "密碼介於 50-100:\n",
            ">>60\n",
            "密碼介於 60-100:\n",
            ">>80\n",
            "密碼介於 80-100:\n",
            ">>90\n",
            "密碼介於 80-90:\n",
            ">>85\n",
            "密碼介於 80-85:\n",
            ">>83\n",
            "密碼介於 80-83:\n",
            ">>82\n",
            "密碼介於 80-82:\n",
            ">>81\n",
            "答對了！\n"
          ],
          "name": "stdout"
        }
      ]
    }
  ]
}