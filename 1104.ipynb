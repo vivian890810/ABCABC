{
  "nbformat": 4,
  "nbformat_minor": 0,
  "metadata": {
    "colab": {
      "name": "1104.ipynb",
      "provenance": [],
      "collapsed_sections": [],
      "authorship_tag": "ABX9TyPG7CdufCZ5CKnRmNH5V3mO",
      "include_colab_link": true
    },
    "kernelspec": {
      "name": "python3",
      "display_name": "Python 3"
    }
  },
  "cells": [
    {
      "cell_type": "markdown",
      "metadata": {
        "id": "view-in-github",
        "colab_type": "text"
      },
      "source": [
        "<a href=\"https://colab.research.google.com/github/vivian890810/Algorithm/blob/master/1104.ipynb\" target=\"_parent\"><img src=\"https://colab.research.google.com/assets/colab-badge.svg\" alt=\"Open In Colab\"/></a>"
      ]
    },
    {
      "cell_type": "markdown",
      "metadata": {
        "id": "W5UJdaS_HY5K"
      },
      "source": [
        "河內塔"
      ]
    },
    {
      "cell_type": "code",
      "metadata": {
        "id": "wmmyNT8dApPx",
        "outputId": "21129b55-b897-4716-aa59-172e3dcb693a",
        "colab": {
          "base_uri": "https://localhost:8080/"
        }
      },
      "source": [
        "sum = 0\n",
        "def factorial(n):\n",
        "   if n==1:\n",
        "     return 1\n",
        "   return n * f(n-1)\n",
        "def Hanoi(n , a, b, c):\n",
        " \n",
        "  if n==1:\n",
        "    global sum\n",
        "    sum += 1\n",
        "    print (\" 執行次數\",sum, a, \"-->\", c)\n",
        "  \n",
        "    return\n",
        "  Hanoi(n-1, a, c, b)\n",
        "  Hanoi(1, a, b, c)\n",
        "  Hanoi(n-1, b, a, c)\n",
        "def initialize(): \n",
        " global num \n",
        " num = 1\n",
        "\n",
        "print(\" 五個\")\n",
        "Hanoi(6, 'A', 'B', 'C',)\n",
        "print(sum)"
      ],
      "execution_count": 33,
      "outputs": [
        {
          "output_type": "stream",
          "text": [
            " 五個\n",
            " 執行次數 1 A --> B\n",
            " 執行次數 2 A --> C\n",
            " 執行次數 3 B --> C\n",
            " 執行次數 4 A --> B\n",
            " 執行次數 5 C --> A\n",
            " 執行次數 6 C --> B\n",
            " 執行次數 7 A --> B\n",
            " 執行次數 8 A --> C\n",
            " 執行次數 9 B --> C\n",
            " 執行次數 10 B --> A\n",
            " 執行次數 11 C --> A\n",
            " 執行次數 12 B --> C\n",
            " 執行次數 13 A --> B\n",
            " 執行次數 14 A --> C\n",
            " 執行次數 15 B --> C\n",
            " 執行次數 16 A --> B\n",
            " 執行次數 17 C --> A\n",
            " 執行次數 18 C --> B\n",
            " 執行次數 19 A --> B\n",
            " 執行次數 20 C --> A\n",
            " 執行次數 21 B --> C\n",
            " 執行次數 22 B --> A\n",
            " 執行次數 23 C --> A\n",
            " 執行次數 24 C --> B\n",
            " 執行次數 25 A --> B\n",
            " 執行次數 26 A --> C\n",
            " 執行次數 27 B --> C\n",
            " 執行次數 28 A --> B\n",
            " 執行次數 29 C --> A\n",
            " 執行次數 30 C --> B\n",
            " 執行次數 31 A --> B\n",
            " 執行次數 32 A --> C\n",
            " 執行次數 33 B --> C\n",
            " 執行次數 34 B --> A\n",
            " 執行次數 35 C --> A\n",
            " 執行次數 36 B --> C\n",
            " 執行次數 37 A --> B\n",
            " 執行次數 38 A --> C\n",
            " 執行次數 39 B --> C\n",
            " 執行次數 40 B --> A\n",
            " 執行次數 41 C --> A\n",
            " 執行次數 42 C --> B\n",
            " 執行次數 43 A --> B\n",
            " 執行次數 44 C --> A\n",
            " 執行次數 45 B --> C\n",
            " 執行次數 46 B --> A\n",
            " 執行次數 47 C --> A\n",
            " 執行次數 48 B --> C\n",
            " 執行次數 49 A --> B\n",
            " 執行次數 50 A --> C\n",
            " 執行次數 51 B --> C\n",
            " 執行次數 52 A --> B\n",
            " 執行次數 53 C --> A\n",
            " 執行次數 54 C --> B\n",
            " 執行次數 55 A --> B\n",
            " 執行次數 56 A --> C\n",
            " 執行次數 57 B --> C\n",
            " 執行次數 58 B --> A\n",
            " 執行次數 59 C --> A\n",
            " 執行次數 60 B --> C\n",
            " 執行次數 61 A --> B\n",
            " 執行次數 62 A --> C\n",
            " 執行次數 63 B --> C\n",
            "63\n"
          ],
          "name": "stdout"
        }
      ]
    },
    {
      "cell_type": "markdown",
      "metadata": {
        "id": "CE3YsuxJHXsj"
      },
      "source": [
        "終極密碼"
      ]
    },
    {
      "cell_type": "code",
      "metadata": {
        "id": "UVKEqU64FjoX",
        "outputId": "c7e830f0-c4db-498a-ccc7-bd8b1d05d6bf",
        "colab": {
          "base_uri": "https://localhost:8080/"
        }
      },
      "source": [
        "from random import randint\n",
        "\n",
        "lowest = 1            #選取範圍\n",
        "highest = 100\n",
        "answer = randint(lowest, highest)\n",
        "\n",
        "while True:\n",
        "    guess = input('密碼介於 ' + str(lowest) + '-' + str(highest) + ':\\n>>')\n",
        "    \n",
        "    #檢查輸入的內容是否為數字\n",
        "    try:\n",
        "        guess = int(guess)  #把字串轉換成整數\n",
        "    except ValueError:  #轉換失敗便要求重新輸入數字\n",
        "        print('格式錯誤，請輸入數字\\n')\n",
        "        continue\n",
        "    \n",
        "    #檢查輸入的數字是否介於規定範圍內\n",
        "    if guess <= lowest or guess >= highest:\n",
        "        print('請輸入 ' + str(lowest) + '-' + str(highest) + ' 之間的整數\\n')\n",
        "        continue\n",
        "    \n",
        "    #判斷有沒有猜中密碼\n",
        "    if guess == answer:\n",
        "        print('答對了！')\n",
        "        break   #猜對才跳脫迴圈\n",
        "    elif guess < answer:\n",
        "        lowest = guess\n",
        "    else:\n",
        "        highest = guess"
      ],
      "execution_count": 2,
      "outputs": [
        {
          "output_type": "stream",
          "text": [
            "密碼介於 1-100:\n",
            ">>20\n",
            "密碼介於 20-100:\n",
            ">>50\n",
            "密碼介於 50-100:\n",
            ">>40\n",
            "請輸入 50-100 之間的整數\n",
            "\n",
            "密碼介於 50-100:\n",
            ">>60\n",
            "密碼介於 60-100:\n",
            ">>80\n",
            "密碼介於 80-100:\n",
            ">>90\n",
            "密碼介於 80-90:\n",
            ">>85\n",
            "密碼介於 80-85:\n",
            ">>83\n",
            "密碼介於 80-83:\n",
            ">>82\n",
            "密碼介於 80-82:\n",
            ">>81\n",
            "答對了！\n"
          ],
          "name": "stdout"
        }
      ]
    },
    {
      "cell_type": "code",
      "metadata": {
        "id": "-IqwJVT0Ms2F",
        "outputId": "f8074e6a-1c5e-4188-e2be-168e259528f5",
        "colab": {
          "base_uri": "https://localhost:8080/",
          "height": 131
        }
      },
      "source": [
        "count = 0\n",
        "\n",
        "def hanoi(n,A,B,C):\n",
        "    global count    \n",
        "    if n == 1:\n",
        "      print 'move',n,'from',A,'to',C\n",
        "      count += 1\n",
        "    else:\n",
        "      hanoi(n-1,A,C,B)\n",
        "      print 'move',n,'from',A,'to',C\n",
        "      count += 1\n",
        "      hanoi(n-1,B,A,C)\n",
        "        \n",
        "\n",
        "hanoi(18,'left','mid','right')\n",
        "print count"
      ],
      "execution_count": 23,
      "outputs": [
        {
          "output_type": "error",
          "ename": "SyntaxError",
          "evalue": "ignored",
          "traceback": [
            "\u001b[0;36m  File \u001b[0;32m\"<ipython-input-23-cc7d29d2741f>\"\u001b[0;36m, line \u001b[0;32m6\u001b[0m\n\u001b[0;31m    print 'move',n,'from',A,'to',C\u001b[0m\n\u001b[0m               ^\u001b[0m\n\u001b[0;31mSyntaxError\u001b[0m\u001b[0;31m:\u001b[0m Missing parentheses in call to 'print'. Did you mean print('move',n,'from',A,'to',C)?\n"
          ]
        }
      ]
    }
  ]
}