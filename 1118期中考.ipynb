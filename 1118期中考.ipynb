{
  "nbformat": 4,
  "nbformat_minor": 0,
  "metadata": {
    "colab": {
      "name": "1118期中考.ipynb",
      "provenance": [],
      "collapsed_sections": [],
      "authorship_tag": "ABX9TyOM01ovf1AkST6yI3mORWdn",
      "include_colab_link": true
    },
    "kernelspec": {
      "name": "python3",
      "display_name": "Python 3"
    }
  },
  "cells": [
    {
      "cell_type": "markdown",
      "metadata": {
        "id": "view-in-github",
        "colab_type": "text"
      },
      "source": [
        "<a href=\"https://colab.research.google.com/github/vivian890810/Algorithm/blob/master/1118%E6%9C%9F%E4%B8%AD%E8%80%83.ipynb\" target=\"_parent\"><img src=\"https://colab.research.google.com/assets/colab-badge.svg\" alt=\"Open In Colab\"/></a>"
      ]
    },
    {
      "cell_type": "markdown",
      "metadata": {
        "id": "u7tJznx6D6c2"
      },
      "source": [
        "選擇排序法(大到小)"
      ]
    },
    {
      "cell_type": "code",
      "metadata": {
        "colab": {
          "base_uri": "https://localhost:8080/"
        },
        "id": "kWftY1Hrrovu",
        "outputId": "7a47c62f-a236-49e7-9edf-71c7976a6142"
      },
      "source": [
        "import random\n",
        "unsorted = [random.randint(0, 100) for _ in range(8)]  #隨機給8個100以內的數字 \n",
        "tmp = unsorted.copy()\n",
        "n = len(tmp)\n",
        "print('原始數列',unsorted, '\\n')\n",
        "for i in range(len(unsorted)):  #8個數字的數列\n",
        "    min_num = tmp[i]      #從未排完的值開始比較\n",
        "    for j in range(i,n,1):   \n",
        "        if tmp[j] > min_num:#如果後面的元素比他要小用j表示表示\n",
        "            min_num = tmp[j]\n",
        "            tmp[i], tmp[j] = tmp[j], tmp[i]\n",
        "    print('第 ', i+1, ' 次排序:', tmp)"
      ],
      "execution_count": 56,
      "outputs": [
        {
          "output_type": "stream",
          "text": [
            "原始數列 [84, 7, 75, 3, 17, 7, 92, 38] \n",
            "\n",
            "第  1  次排序: [92, 7, 75, 3, 17, 7, 84, 38]\n",
            "第  2  次排序: [92, 84, 7, 3, 17, 7, 75, 38]\n",
            "第  3  次排序: [92, 84, 75, 3, 7, 7, 17, 38]\n",
            "第  4  次排序: [92, 84, 75, 38, 3, 7, 7, 17]\n",
            "第  5  次排序: [92, 84, 75, 38, 17, 3, 7, 7]\n",
            "第  6  次排序: [92, 84, 75, 38, 17, 7, 3, 7]\n",
            "第  7  次排序: [92, 84, 75, 38, 17, 7, 7, 3]\n",
            "第  8  次排序: [92, 84, 75, 38, 17, 7, 7, 3]\n"
          ],
          "name": "stdout"
        }
      ]
    },
    {
      "cell_type": "markdown",
      "metadata": {
        "id": "Pu04vhSv2cpN"
      },
      "source": [
        "插入排序法(小到大)"
      ]
    },
    {
      "cell_type": "code",
      "metadata": {
        "colab": {
          "base_uri": "https://localhost:8080/"
        },
        "id": "1VSyUMtDN7_3",
        "outputId": "82eae744-abe4-4ab6-a979-8c4a325a6a70"
      },
      "source": [
        "import random\n",
        "unsorted = [random.randint(0, 100) for _ in range(8)] #隨機給8個100以內的數字\n",
        "tmp = unsorted.copy()\n",
        "n = len(tmp)\n",
        "print('原始數列',unsorted, '\\n')\n",
        "for i in range( len(unsorted)):#8個數字的數列\n",
        "    target = tmp[i]   #未排序中的資料中選值\n",
        "    j = i - 1    #選定值的位置反向比較回來\n",
        "    while j >= 0 and target < tmp[j]:#排序位置中遇到的值大於等於選定的值\n",
        "        tmp[j + 1] = tmp[j]  #就將數列往後移一格，右移       \n",
        "        j = j - 1\n",
        "    tmp[j + 1] = target\n",
        "    print('第 ', i+1, ' 次排序:', tmp)"
      ],
      "execution_count": 55,
      "outputs": [
        {
          "output_type": "stream",
          "text": [
            "原始數列 [12, 86, 23, 45, 36, 80, 19, 18] \n",
            "\n",
            "第  1  次排序: [12, 86, 23, 45, 36, 80, 19, 18]\n",
            "第  2  次排序: [12, 86, 23, 45, 36, 80, 19, 18]\n",
            "第  3  次排序: [12, 23, 86, 45, 36, 80, 19, 18]\n",
            "第  4  次排序: [12, 23, 45, 86, 36, 80, 19, 18]\n",
            "第  5  次排序: [12, 23, 36, 45, 86, 80, 19, 18]\n",
            "第  6  次排序: [12, 23, 36, 45, 80, 86, 19, 18]\n",
            "第  7  次排序: [12, 19, 23, 36, 45, 80, 86, 18]\n",
            "第  8  次排序: [12, 18, 19, 23, 36, 45, 80, 86]\n"
          ],
          "name": "stdout"
        }
      ]
    }
  ]
}