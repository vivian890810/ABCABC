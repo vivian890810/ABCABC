{
  "nbformat": 4,
  "nbformat_minor": 0,
  "metadata": {
    "colab": {
      "name": "1209.ipynb",
      "provenance": [],
      "authorship_tag": "ABX9TyMiq2T3jhdoL3e0r9uk9tOl",
      "include_colab_link": true
    },
    "kernelspec": {
      "name": "python3",
      "display_name": "Python 3"
    }
  },
  "cells": [
    {
      "cell_type": "markdown",
      "metadata": {
        "id": "view-in-github",
        "colab_type": "text"
      },
      "source": [
        "<a href=\"https://colab.research.google.com/github/vivian890810/Algorithm/blob/master/1209.ipynb\" target=\"_parent\"><img src=\"https://colab.research.google.com/assets/colab-badge.svg\" alt=\"Open In Colab\"/></a>"
      ]
    },
    {
      "cell_type": "code",
      "metadata": {
        "colab": {
          "base_uri": "https://localhost:8080/"
        },
        "id": "ZCQKGtrqZIPm",
        "outputId": "3f381d20-8b2b-4401-983c-7c26b2d410e2"
      },
      "source": [
        "# A Dynamic Programming solution for Rod cutting problem \r\n",
        "INT_MIN = -32767\r\n",
        "  \r\n",
        "# Returns the best obtainable price for a rod of length n and \r\n",
        "# price[] as prices of different pieces \r\n",
        "def cutRod(price, n): \r\n",
        "    val = [0 for x in range(n+1)] \r\n",
        "    val[0] = 0\r\n",
        "  \r\n",
        "    # Build the table val[] in bottom up manner and return \r\n",
        "    # the last entry from the table \r\n",
        "    for i in range(1, n+1): \r\n",
        "        max_val = INT_MIN \r\n",
        "        for j in range(i): \r\n",
        "             max_val = max(max_val, price[j] + val[i-j-1]) \r\n",
        "        val[i] = max_val \r\n",
        "  \r\n",
        "    return val[n] \r\n",
        "  \r\n",
        "# Driver program to test above functions \r\n",
        "arr = [1, 5, 8, 9, 10, 17, 17, 20, 24,30] \r\n",
        "size = int(input(\"輸入數字:\")) \r\n",
        "print(\"Maximum Obtainable Value is \" + str(cutRod(arr, size))) \r\n",
        "  \r\n",
        "# This code is contributed by Bhavya Jain "
      ],
      "execution_count": 48,
      "outputs": [
        {
          "output_type": "stream",
          "text": [
            "輸入數字:10\n",
            "Maximum Obtainable Value is 30\n"
          ],
          "name": "stdout"
        }
      ]
    }
  ]
}