{
  "nbformat": 4,
  "nbformat_minor": 0,
  "metadata": {
    "colab": {
      "name": "張雅涵_109演算法期末考.ipynb",
      "provenance": [],
      "collapsed_sections": [],
      "authorship_tag": "ABX9TyO/3s9zh0Q5HzVp9+Pu+sFv",
      "include_colab_link": true
    },
    "kernelspec": {
      "name": "python3",
      "display_name": "Python 3"
    }
  },
  "cells": [
    {
      "cell_type": "markdown",
      "metadata": {
        "id": "view-in-github",
        "colab_type": "text"
      },
      "source": [
        "<a href=\"https://colab.research.google.com/github/vivian890810/Algorithm/blob/master/%E5%BC%B5%E9%9B%85%E6%B6%B5_109%E6%BC%94%E7%AE%97%E6%B3%95%E6%9C%9F%E6%9C%AB%E8%80%83.ipynb\" target=\"_parent\"><img src=\"https://colab.research.google.com/assets/colab-badge.svg\" alt=\"Open In Colab\"/></a>"
      ]
    },
    {
      "cell_type": "markdown",
      "metadata": {
        "id": "wHSnLlPOhYYN"
      },
      "source": [
        "第一題： 請從一個整數Array中，找出第K大的元素"
      ]
    },
    {
      "cell_type": "code",
      "metadata": {
        "colab": {
          "base_uri": "https://localhost:8080/"
        },
        "id": "I8Dxcr1smwMH",
        "outputId": "f4eda730-c965-4ce3-f5c1-253188b95d37"
      },
      "source": [
        "\r\n",
        "def Find_Kth_max(array,k):#一個數列\r\n",
        "    for i in range(1,k):\r\n",
        "        for j in range(i,0,-1):#往前比對\r\n",
        "            if array[j] > array[j-1]:#往前面去找\r\n",
        "                array[j],array[j-1] = array[j-1],array[j]#都小的話，就跳過\r\n",
        "            else:\r\n",
        "                pass\r\n",
        "    for i in range(k,len(array)):\r\n",
        "        if array[i] > array[k-1]:\r\n",
        "            array[k-1] = array[i]\r\n",
        "            for j in range(k-1,0,-1):\r\n",
        "                if array[j] > array[j-1]:\r\n",
        "                    array[j],array[j-1] = array[j-1],array[j]\r\n",
        "                else:\r\n",
        "                    pass\r\n",
        "    return array[k-1]\r\n",
        "a = int(input(\"輸入要找的數\")) \r\n",
        "print(Find_Kth_max([2,1,4,3,5,9,8,0,1,3,2,5],a))  \r\n"
      ],
      "execution_count": 28,
      "outputs": [
        {
          "output_type": "stream",
          "text": [
            "輸入要找的數5\n",
            "4\n"
          ],
          "name": "stdout"
        }
      ]
    },
    {
      "cell_type": "markdown",
      "metadata": {
        "id": "Uh2QBv7rio9u"
      },
      "source": [
        "解題方法:\r\n",
        "\r\n",
        "\r\n",
        "要找K最大的數，所以保留K前最大的數，每次在跟新的比對，進行排序。新的元素大的畫插入道樹列中，不然就跳過。循環道結束數列中最小直，就找大最大K植了!\r\n"
      ]
    },
    {
      "cell_type": "markdown",
      "metadata": {
        "id": "iYixkXK1hrrb"
      },
      "source": [
        "第二題： 找零錢問題 目前有 1,2,5,10 四種面值的硬幣，請算出有總共有幾種方式湊N元?\r\n",
        "\r\n"
      ]
    },
    {
      "cell_type": "code",
      "metadata": {
        "colab": {
          "base_uri": "https://localhost:8080/"
        },
        "id": "OnYWRkYVhsK-",
        "outputId": "f3a552a9-f713-4b54-c353-9452b2c3fe5b"
      },
      "source": [
        "b = [10, 5, 2, 1]#所有面值得硬幣數列\r\n",
        "def change(b, n):\r\n",
        "    m = [0 for _ in range(len(b))]\r\n",
        "    for i, money in enumerate(b):\r\n",
        "        m[i] = n // money  #利用除法去取整數\r\n",
        "        n = n % money  \r\n",
        "    return m, n\r\n",
        " \r\n",
        "print(change(b, 32))"
      ],
      "execution_count": 29,
      "outputs": [
        {
          "output_type": "stream",
          "text": [
            "([3, 0, 1, 0], 0)\n"
          ],
          "name": "stdout"
        }
      ]
    },
    {
      "cell_type": "markdown",
      "metadata": {
        "id": "IwNhOAKJkq6f"
      },
      "source": [
        "解題說明:\r\n",
        "\r\n",
        "用面額較大的紙鈔或硬幣，可以減少全部紙鈔和硬幣的數量\r\n",
        "\r\n",
        "因此優先換面額較大的紙鈔或硬幣，換完才換較小的"
      ]
    },
    {
      "cell_type": "markdown",
      "metadata": {
        "id": "ZbnhPaqbepyw"
      },
      "source": [
        "第三題： 有個小偷到3C用品店偷東⻄,假設他的背包的負重最多可達10公斤,他希望在背包中裝入負重範圍內可得之總價物品,小偷的背包應該怎麼裝才能帶走最有價值的商品?"
      ]
    },
    {
      "cell_type": "code",
      "metadata": {
        "colab": {
          "base_uri": "https://localhost:8080/"
        },
        "id": "JlVWEcqFepeu",
        "outputId": "f401ccc2-14f6-495a-b77f-1ad7ae3aafd2"
      },
      "source": [
        "\r\n",
        "def knapsack(p, w, v):\r\n",
        "    n = len(p)\r\n",
        "    lists,arr = [],[[0] * (v + 1) for _ in range(n + 1)]\r\n",
        "\r\n",
        "    for i in range(1, n + 1):\r\n",
        "        for j in range(1, v + 1):\r\n",
        "            if w[i - 1] <= j:  # 如果當前物品的體積不超過揹包的容量，p[i-1]當前物品的價值，w[i-1]當前物品的體積\r\n",
        "                arr[i][j] = max(arr[i - 1][j], p[i - 1] + arr[i - 1][j - w[i - 1]])\r\n",
        "            else: #如果當前物品的體積超過揹包的容量\r\n",
        "                arr[i][j] = arr[i - 1][j]\r\n",
        "    remain = v\r\n",
        "\r\n",
        "    for i in range(n, 0, -1):\r\n",
        "        if arr[i][remain] > arr[i - 1][remain]:\r\n",
        "            lists.append(i - 1)  # (i-1)為當前物品的編號\r\n",
        "            remain -= w[i - 1]  # 容積減去已經找到的物品，再次尋找\r\n",
        "\r\n",
        "    return arr[-1][-1], lists\r\n",
        "\r\n",
        "\r\n",
        "if __name__ == '__main__':\r\n",
        "    itemlist = ['ps5', 'ipad pro12', 'macbook pro15', 'homepod', 'macmini']\r\n",
        "    p = [17000,42000,50000,9000,25000]  # 物品的價值\r\n",
        "    w = [5,1,2,3,2] # 物品佔的體積\r\n",
        "    v = 10  # 揹包的容量\r\n",
        "    print(knapsack(p, w, v))\r\n",
        "\r\n"
      ],
      "execution_count": 30,
      "outputs": [
        {
          "output_type": "stream",
          "text": [
            "(134000, [4, 2, 1, 0])\n"
          ],
          "name": "stdout"
        }
      ]
    },
    {
      "cell_type": "markdown",
      "metadata": {
        "id": "h9rgT3nMeotZ"
      },
      "source": [
        "解法說明:\r\n",
        "\r\n",
        "揹包問題中，在選擇是否要把一個物品加到揹包中，必須把該物品加進去的子問題的解與不取該物品的子問題的解進行比較，這種方式形成的問題導致了許多重疊子問題，使用動態規劃來解決。"
      ]
    },
    {
      "cell_type": "markdown",
      "metadata": {
        "id": "wwiNfoJwehU_"
      },
      "source": [
        "第四題：請以深度優先搜尋(DFS)、廣度優先搜尋法(BFS)走訪有向圖中的所有節點，並印出兩種搜尋法的走訪順序"
      ]
    },
    {
      "cell_type": "markdown",
      "metadata": {
        "id": "0TPXoRk6bZKM"
      },
      "source": [
        "深度廣度"
      ]
    },
    {
      "cell_type": "code",
      "metadata": {
        "colab": {
          "base_uri": "https://localhost:8080/"
        },
        "id": "uMlPtG7tdVkk",
        "outputId": "59675ec9-1d05-426c-abfc-6667b6b7cc55"
      },
      "source": [
        "def enqueue(a, o):\r\n",
        "    a.insert(0, o)\r\n",
        "\r\n",
        "def dequeue(a):\r\n",
        "    return a.pop()\r\n",
        "\r\n",
        "g = { \r\n",
        "    'A': {'n':['B','C'], 'y':0},\r\n",
        "    'B': {'n':['D','E'], 'y':0},\r\n",
        "    'C': {'n':['F'], 'y':0},\r\n",
        "    'D': {'n':[], 'y':0},\r\n",
        "    'E': {'n':['H'], 'y':0},\r\n",
        "    'F': {'n':['I'], 'y':0},\r\n",
        "    'G': {'n':[], 'y':0},\r\n",
        "    'H': {'n':['G'], 'y':0},\r\n",
        "    'I': {'n':[], 'y':0},\r\n",
        "   \r\n",
        "} #變數n為旁邊數 #變數y為遇過的數\r\n",
        "\r\n",
        "def init(g): \r\n",
        "     for i in g:\r\n",
        "        g[i]['y'] = 0\r\n",
        "\r\n",
        " \r\n",
        "def dfs(g, node):#深度\r\n",
        "    if g[node]['y']!=0:#辦定是否碰過，碰過跳過\r\n",
        "        return\r\n",
        "    print(node, '> ', end = '')  \r\n",
        "    g[node]['y'] = 1              \r\n",
        "    neighbors = g[node]['n'] #取出碰過的\r\n",
        "    for n in neighbors:           \r\n",
        "        dfs(g, n)               \r\n",
        "\r\n",
        "queue=['A'] #起始點\r\n",
        "\r\n",
        "def bfs(g, q):  #廣度\r\n",
        "    if len(q)==0:\r\n",
        "      return               \r\n",
        "    node = dequeue(q)    #取出第一個點\r\n",
        "    if g[node]['y'] == 0: #辦定是否碰過，碰過跳過\r\n",
        "        g[node]['y'] = 1        \r\n",
        "    else:                       \r\n",
        "        return           \r\n",
        "    print(node, '> ', end = '') \r\n",
        "    neighbors = g[node]['n']      \r\n",
        "    for n in neighbors:\r\n",
        "        if not g[n]['y']:  #如果從未碰過\r\n",
        "            enqueue(q, n)    #放入queu中\r\n",
        "    bfs(g, q)\r\n",
        "\r\n",
        "print('深度:', end = '')\r\n",
        "init(g)\r\n",
        "dfs(g, 'A') # 呼叫深度優先搜尋。\r\n",
        "print('')\r\n",
        "\r\n",
        "print('廣度:', end = '')\r\n",
        "init(g)\r\n",
        "bfs(g, queue) # 呼叫廣度優先搜尋。\r\n",
        "print('')"
      ],
      "execution_count": 31,
      "outputs": [
        {
          "output_type": "stream",
          "text": [
            "深度:A > B > D > E > H > G > C > F > I > \n",
            "廣度:A > B > C > D > E > F > H > I > G > \n"
          ],
          "name": "stdout"
        }
      ]
    },
    {
      "cell_type": "markdown",
      "metadata": {
        "id": "AfWB1SB3diYA"
      },
      "source": [
        "解題想法:\r\n",
        "深度，一次走到底，到底再回頭看哪裡沒走過，到底再回頭走沒走的\r\n",
        "\r\n",
        "\r\n",
        "1.每一層走一點和一遍最好\r\n",
        "\r\n",
        "2.到底層爬回去上層找沒走過的\r\n",
        "\r\n"
      ]
    },
    {
      "cell_type": "markdown",
      "metadata": {
        "id": "kmEb2AEAdZpn"
      },
      "source": [
        "廣度"
      ]
    },
    {
      "cell_type": "markdown",
      "metadata": {
        "id": "t4K_Bpirdw4F"
      },
      "source": [
        "解題想法:\r\n",
        "會用到一個概念Queue(佇列)、先進先出(First-in-First-out)\r\n",
        "從起點把點從左到右塞進去，保證層的順序"
      ]
    },
    {
      "cell_type": "markdown",
      "metadata": {
        "id": "KdSdJfZhY8N8"
      },
      "source": [
        "第五題： 請用 Kruskal或Prim 演算法(2選1)找出下圖的最小生成樹，並依照順序寫出加入的每一個邊"
      ]
    },
    {
      "cell_type": "code",
      "metadata": {
        "colab": {
          "base_uri": "https://localhost:8080/"
        },
        "id": "_x6oQxVFTd20",
        "outputId": "befec29b-6674-47ee-e4ea-f028ccc3095c"
      },
      "source": [
        "def cmp(key1, key2):\r\n",
        "    return (key1, key2) if key1 < key2 else (key2, key1)\r\n",
        "\r\n",
        "\r\n",
        "def prim(graph, init_node):\r\n",
        "    visited = {init_node}\r\n",
        "    candidate = set(graph.keys())\r\n",
        "    candidate.remove(init_node)  #先加入所有候選的數值\r\n",
        "    tree = []\r\n",
        "\r\n",
        "    while len(candidate) > 0:\r\n",
        "        edge_dict = dict()\r\n",
        "        for node in visited:  #找出所有碰到的\r\n",
        "            for connected_node, weight in graph[node].items():  #找出沒碰到的\r\n",
        "                if connected_node in candidate:\r\n",
        "                    edge_dict[cmp(connected_node, node)] = weight\r\n",
        "        edge, cost = sorted(edge_dict.items(), key=lambda kv: kv[1])[0]  #找到最小的邊\r\n",
        "        tree.append(edge)\r\n",
        "        visited.add(edge[0])  #因為不知道哪個數會是第一個\r\n",
        "        visited.add(edge[1])\r\n",
        "        candidate.discard(edge[0]) #因為不知道哪個邊是第一個\r\n",
        "        candidate.discard(edge[1])\r\n",
        "    return tree\r\n",
        "\r\n",
        "\r\n",
        "if __name__ == '__main__':\r\n",
        "    graph_dict = {\r\n",
        "        \"A\": {\"B\": 30, \"F\": 16, \"C\": 23, \"I\": 19},\r\n",
        "        \"B\": {\"A\": 30, \"I\": 35, \"H\": 32},\r\n",
        "        \"C\": {\"A\": 23, \"F\": 26, \"E\": 15, \"D\": 20, \"I\": 21},\r\n",
        "        \"D\": {\"I\": 14, \"H\": 64, \"C\": 20, \"E\": 24},\r\n",
        "        \"E\": {\"C\": 15, \"F\": 25, \"D\": 24, \"H\": 2},\r\n",
        "        \"F\": {\"D\": 16, \"E\": 25, \"C\": 26},\r\n",
        "        \"I\": {\"B\": 35, \"A\": 19, \"C\": 21, \"D\": 14, \"H\": 20}\r\n",
        "    }\r\n",
        "\r\n",
        "    path = prim(graph_dict, \"D\")\r\n",
        "    print(path)  "
      ],
      "execution_count": 32,
      "outputs": [
        {
          "output_type": "stream",
          "text": [
            "[('D', 'I'), ('A', 'I'), ('A', 'F'), ('C', 'D'), ('C', 'E'), ('A', 'B')]\n"
          ],
          "name": "stdout"
        }
      ]
    },
    {
      "cell_type": "markdown",
      "metadata": {
        "id": "fcYRFvoLZCmy"
      },
      "source": [
        "解題想法:\r\n",
        "使用Prim演算法\r\n",
        "\r\n",
        "1任意一點開始，每次選擇與淺一點最近的 一個，將兩點加入樹中    \r\n",
        "2被選重的構成集合 \r\n",
        "3從選重集合點，找出最小點加入   \r\n",
        "4同時在候選中刪去\r\n",
        "5重逾，直到沒有元素  "
      ]
    }
  ]
}