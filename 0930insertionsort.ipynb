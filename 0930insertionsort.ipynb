{
  "nbformat": 4,
  "nbformat_minor": 0,
  "metadata": {
    "colab": {
      "name": "0930insertionsort.ipynb",
      "provenance": [],
      "collapsed_sections": [],
      "include_colab_link": true
    },
    "kernelspec": {
      "name": "python3",
      "display_name": "Python 3"
    }
  },
  "cells": [
    {
      "cell_type": "markdown",
      "metadata": {
        "id": "view-in-github",
        "colab_type": "text"
      },
      "source": [
        "<a href=\"https://colab.research.google.com/github/vivian890810/ABCABC/blob/master/0930insertionsort.ipynb\" target=\"_parent\"><img src=\"https://colab.research.google.com/assets/colab-badge.svg\" alt=\"Open In Colab\"/></a>"
      ]
    },
    {
      "cell_type": "code",
      "metadata": {
        "id": "h9trzjL4lzWN"
      },
      "source": [
        ""
      ],
      "execution_count": null,
      "outputs": []
    },
    {
      "cell_type": "markdown",
      "metadata": {
        "id": "j95w6SLwOC0z"
      },
      "source": [
        "Insertion sort (插入排序)"
      ]
    },
    {
      "cell_type": "code",
      "metadata": {
        "id": "BxBaYEwzNj_v",
        "outputId": "652078e3-cdf8-40aa-824e-ccc5a330716e",
        "colab": {
          "base_uri": "https://localhost:8080/",
          "height": 204
        }
      },
      "source": [
        "\n",
        "def Insertion_Sort(datas):\n",
        "    for i in range(1, len(datas)):                #n\n",
        "        for j in range(i):                  #n平方\n",
        "            current = datas[i]\n",
        "            if current < datas[j]:\n",
        "                for k in range(i,j):         #n三次方\n",
        "                  print(datas)\n",
        "    return datas                          #1\n",
        "\n",
        "\n",
        "def insertionSort(arr):\n",
        "    for i in range(len(arr)):                   #n\n",
        "        preIndex = i-1\n",
        "        current = arr[i]\n",
        "        while preIndex >= 0 and arr[preIndex] > current:\n",
        "            arr[preIndex+1] = arr[preIndex]\n",
        "            preIndex-=1\n",
        "        arr[preIndex+1] = current\n",
        "        print(arr)\n",
        "    return arr                            #1\n",
        "\n",
        "if __name__ == '__main__':\n",
        "    import random\n",
        "    a = list(range(10))\n",
        "    random.shuffle(a)\n",
        "    b = a.copy()\n",
        "\n",
        "    arr = insertionSort(a)\n",
        "    print('---'*10)\n",
        "    Insertion_Sort(b)"
      ],
      "execution_count": null,
      "outputs": [
        {
          "output_type": "stream",
          "text": [
            "[0, 8, 1, 2, 5, 3, 9, 6, 7, 4]\n",
            "[0, 8, 1, 2, 5, 3, 9, 6, 7, 4]\n",
            "[0, 1, 8, 2, 5, 3, 9, 6, 7, 4]\n",
            "[0, 1, 2, 8, 5, 3, 9, 6, 7, 4]\n",
            "[0, 1, 2, 5, 8, 3, 9, 6, 7, 4]\n",
            "[0, 1, 2, 3, 5, 8, 9, 6, 7, 4]\n",
            "[0, 1, 2, 3, 5, 8, 9, 6, 7, 4]\n",
            "[0, 1, 2, 3, 5, 6, 8, 9, 7, 4]\n",
            "[0, 1, 2, 3, 5, 6, 7, 8, 9, 4]\n",
            "[0, 1, 2, 3, 4, 5, 6, 7, 8, 9]\n",
            "------------------------------\n"
          ],
          "name": "stdout"
        }
      ]
    }
  ]
}