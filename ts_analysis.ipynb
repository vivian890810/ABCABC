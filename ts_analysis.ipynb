{
  "nbformat": 4,
  "nbformat_minor": 0,
  "metadata": {
    "colab": {
      "name": "ts_analysis.ipynb",
      "provenance": [],
      "collapsed_sections": [],
      "authorship_tag": "ABX9TyPe98ypOsmy+YQsAtItnURF",
      "include_colab_link": true
    },
    "kernelspec": {
      "name": "python3",
      "display_name": "Python 3"
    }
  },
  "cells": [
    {
      "cell_type": "markdown",
      "metadata": {
        "id": "view-in-github",
        "colab_type": "text"
      },
      "source": [
        "<a href=\"https://colab.research.google.com/github/vivian890810/Algorithm/blob/master/ts_analysis.ipynb\" target=\"_parent\"><img src=\"https://colab.research.google.com/assets/colab-badge.svg\" alt=\"Open In Colab\"/></a>"
      ]
    },
    {
      "cell_type": "markdown",
      "metadata": {
        "id": "r4cr_dGa39i5"
      },
      "source": [
        "時間換空間\n"
      ]
    },
    {
      "cell_type": "code",
      "metadata": {
        "id": "rgQNuVfr45Dd"
      },
      "source": [
        "year = int(input(\"輸入一個年份：\"))\n",
        "if (year % 4) == 0 and (year % 100) !=0 or (year % 400) == 0: #判斷是不是閏年 #除以400或4都可以，但100不可以\n",
        "  print(\"%s年是閏年\" % year)                       \n",
        "else:\n",
        "  print(\"%s年不是閏年\" % year)        #不符合輸出不是閏年\n"
      ],
      "execution_count": null,
      "outputs": []
    },
    {
      "cell_type": "markdown",
      "metadata": {
        "id": "Hiiaa6CbC35h"
      },
      "source": [
        "空間換時間"
      ]
    },
    {
      "cell_type": "code",
      "metadata": {
        "id": "90E6pT83faEf",
        "outputId": "c21e6a26-fcf1-4cfb-efa2-2d8ad21c2e80",
        "colab": {
          "base_uri": "https://localhost:8080/",
          "height": 51
        }
      },
      "source": [
        "year = [2000,2004,2008,2012,2016,2020,2024,2028,2032,2036,2040]    #給一個名字是year的串列，串列中是2020到2024之間所有的閏年\n",
        "a = int(input(\"輸入一個年份：\"))\n",
        "if a in year:                             #如果輸入的數字在year的串列中\n",
        "  print('%s是閏年'%a)       #輸出是閏年\n",
        "else:\n",
        "  print('%s不是閏年'%a)      #否則不是閏年"
      ],
      "execution_count": 4,
      "outputs": [
        {
          "output_type": "stream",
          "text": [
            "輸入一個年份：2013\n",
            "2013不是閏年\n"
          ],
          "name": "stdout"
        }
      ]
    },
    {
      "cell_type": "code",
      "metadata": {
        "id": "GL10oN7cMw0i"
      },
      "source": [
        ""
      ],
      "execution_count": null,
      "outputs": []
    }
  ]
}