{
  "nbformat": 4,
  "nbformat_minor": 0,
  "metadata": {
    "colab": {
      "name": "Binary Search.ipynb",
      "provenance": [],
      "authorship_tag": "ABX9TyOgAx7GFNp2JoZF9H9HLxAp",
      "include_colab_link": true
    },
    "kernelspec": {
      "name": "python3",
      "display_name": "Python 3"
    }
  },
  "cells": [
    {
      "cell_type": "markdown",
      "metadata": {
        "id": "view-in-github",
        "colab_type": "text"
      },
      "source": [
        "<a href=\"https://colab.research.google.com/github/vivian890810/Algorithm/blob/master/Binary_Search.ipynb\" target=\"_parent\"><img src=\"https://colab.research.google.com/assets/colab-badge.svg\" alt=\"Open In Colab\"/></a>"
      ]
    },
    {
      "cell_type": "code",
      "metadata": {
        "id": "Q0qxVA_CyVZv",
        "outputId": "3d0bbc99-b32b-48b4-ff6d-c1134c111f55",
        "colab": {
          "base_uri": "https://localhost:8080/",
          "height": 35
        }
      },
      "source": [
        "def binarySearch (arr,l,r,x):\n",
        "\n",
        "  if r >= l:\n",
        "\n",
        "    mid=l+(r-l)//2\n",
        "\n",
        "    if arr[mid]==x:\n",
        "      return mid\n",
        "    elif arr[mid]>x:\n",
        "      return binarySearch(arr,l,mid-1,x)\n",
        "    else:\n",
        "      return binarySearch(arr,mid+1,r,x)\n",
        "  else:\n",
        "    return-1\n",
        "arr=[5,8,9,15,30]\n",
        "x=5\n",
        "\n",
        "# Function call\n",
        "result=binarySearch(arr,0,len(arr)-1,x)\n",
        "\n",
        "if result !=-1:\n",
        "  print(\"元素在索引% d\"% result)\n",
        "else:\n",
        "  print(\"陣列中找不到該元素\")"
      ],
      "execution_count": 25,
      "outputs": [
        {
          "output_type": "stream",
          "text": [
            "元素在索引 0\n"
          ],
          "name": "stdout"
        }
      ]
    },
    {
      "cell_type": "code",
      "metadata": {
        "id": "y_ZfkNEC_lmG",
        "outputId": "a0e81779-cdcf-4b4a-9ef0-f642e8020807",
        "colab": {
          "base_uri": "https://localhost:8080/",
          "height": 87
        }
      },
      "source": [
        "def Bubble_Sort(datas):\n",
        " \n",
        "    for i in range(1, len(datas)): # \n",
        "        for j in range(len(datas)-i):   # \n",
        "            if datas[j] > datas[j+1]:   # \n",
        "                datas[j], datas[j+1] = datas[j+1], datas[j]\n",
        "    return datas\n",
        "\n",
        "def binarySearch (arr,l,r,x):\n",
        "\n",
        "  if r >= l:\n",
        "\n",
        "    mid=l+(r-l)//2\n",
        "\n",
        "    if arr[mid]==x:\n",
        "      return mid\n",
        "    elif arr[mid]>x:\n",
        "      return binarySearch(arr,l,mid-1,x)\n",
        "    else:\n",
        "      return binarySearch(arr,mid+1,r,x)\n",
        "  else:\n",
        "    return-1\n",
        "if __name__ == '__main__':\n",
        "   a=input(\"請輸入5個數字\") #先顯示必須輸入的數字\n",
        "   b=a.split()        #split空格判斷數字\n",
        "   arr=Bubble_Sort(b)    #輸入串列\n",
        "   print(arr)\n",
        "arr=Bubble_Sort(b)\n",
        "x = input('請輸入找尋數字')\n",
        "\n",
        "# Function call\n",
        "result=binarySearch(arr,0,len(arr)-1,x)\n",
        "\n",
        "if result !=-1:\n",
        "  print(\"元素在索引% d\"% result)\n",
        "else:\n",
        "  print(\"陣列中找不到該元素\")"
      ],
      "execution_count": 35,
      "outputs": [
        {
          "output_type": "stream",
          "text": [
            "請輸入5個數字2 1 6 3 1\n",
            "['1', '1', '2', '3', '6']\n",
            "請輸入找尋數字4\n",
            "陣列中找不到該元素\n"
          ],
          "name": "stdout"
        }
      ]
    },
    {
      "cell_type": "code",
      "metadata": {
        "id": "tjvvw20DAA4S"
      },
      "source": [
        "def Bubble_Sort(datas):\n",
        " \n",
        "    for i in range(1, len(datas)): # \n",
        "        for j in range(len(datas)-i):   # \n",
        "            if datas[j] > datas[j+1]:   # \n",
        "                datas[j], datas[j+1] = datas[j+1], datas[j]\n",
        "    return datas\n",
        "\n",
        "\n",
        "if __name__ == '__main__':\n",
        "   a=input(\"請輸入6個數字\") #先顯示必須輸入的數字\n",
        "   b=a.split()        #split空格判斷數字\n",
        "   list=Bubble_Sort(b)    #輸入串列\n",
        "   print(list)        #顯示排序"
      ],
      "execution_count": null,
      "outputs": []
    }
  ]
}