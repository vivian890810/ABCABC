{
  "nbformat": 4,
  "nbformat_minor": 0,
  "metadata": {
    "colab": {
      "name": "1223.ipynb",
      "provenance": [],
      "authorship_tag": "ABX9TyPgoYFPYxH5AIVPwXAJdaWF",
      "include_colab_link": true
    },
    "kernelspec": {
      "name": "python3",
      "display_name": "Python 3"
    }
  },
  "cells": [
    {
      "cell_type": "markdown",
      "metadata": {
        "id": "view-in-github",
        "colab_type": "text"
      },
      "source": [
        "<a href=\"https://colab.research.google.com/github/vivian890810/Algorithm/blob/master/1223.ipynb\" target=\"_parent\"><img src=\"https://colab.research.google.com/assets/colab-badge.svg\" alt=\"Open In Colab\"/></a>"
      ]
    },
    {
      "cell_type": "markdown",
      "metadata": {
        "id": "qG2t4p2ZX-81"
      },
      "source": [
        "**選定問題**:集合覆蓋問題"
      ]
    },
    {
      "cell_type": "markdown",
      "metadata": {
        "id": "Bzo3wnEIYDjD"
      },
      "source": [
        "**屬於哪種**:NPC"
      ]
    },
    {
      "cell_type": "markdown",
      "metadata": {
        "id": "T-P0dAQeXS2G"
      },
      "source": [
        "**問題介紹**\r\n",
        ":本公司的新產品麥片想要在臺灣本島六個直轄市的店面上架，希望與最少的通路合作就能涵蓋所有縣市，如今通路有：全聯、頂好、家樂福、costo、統冠等五家，每個通路的店面涵蓋不同縣市。【1】"
      ]
    },
    {
      "cell_type": "markdown",
      "metadata": {
        "id": "OkQGscu5XPm7"
      },
      "source": [
        "**解法:**\r\n",
        "\r\n",
        "1.Step1:先列出各種可能的子集合，稱做冪集合(Power Set)，由於每個集合都可能「有或沒有」其中一個通路，所以集合總數為2⁵ = 32，\r\n",
        " \r\n",
        "2.Step2:從這32個集合中挑出通路最少、卻能覆蓋全臺本島縣市的子集。數量少(只有5家)可以很快計算出來，但數量若有n家，就有2^n個子集，運算時間將會變得很慢，這樣的情況符合NPC，所以我們不求最佳解，改用貪婪演算法。【1】\r\n"
      ]
    },
    {
      "cell_type": "markdown",
      "metadata": {
        "id": "pAEgMcaLjI9O"
      },
      "source": [
        "**程式呈現**:\r\n",
        "【2】"
      ]
    },
    {
      "cell_type": "code",
      "metadata": {
        "colab": {
          "base_uri": "https://localhost:8080/"
        },
        "id": "5rajUn4Pbk6f",
        "outputId": "909f571c-2e35-4059-e32a-b1838366d4f6"
      },
      "source": [
        "#創建一個列表，列表中有台灣六個直轄市\r\n",
        "states_needed = set([\"台北\", \"新北\", \"桃園\", \"台中\", \"台南\", \"高雄\"])\r\n",
        " \r\n",
        "#列出可供選擇的五大通路\r\n",
        "stations = {}\r\n",
        "stations[\"全聯\"] = set([\"台南\", \"台中\"])\r\n",
        "stations[\"頂好\"] = set([\"台北\", \"台南\"])\r\n",
        "stations[\"家樂福\"] = set([\"台南\", \"台中\", \"高雄\"])\r\n",
        "stations[\"Costo\"] = set([\"新北\", \"高雄\"])\r\n",
        "stations[\"統冠\"] = set([\"台中\", \"桃園\"])\r\n",
        " \r\n",
        "#需要一個集合來存儲最終選擇的通路\r\n",
        "final_stations = set()\r\n",
        " \r\n",
        "#找尋所有廣播台，從中選擇覆蓋了最多的未覆蓋州的廣播台。\r\n",
        "while states_needed:\r\n",
        "    best_station = None # 覆蓋了最多的未覆蓋直轄市的通路\r\n",
        "    states_covered = set() # 包含該廣通路覆蓋的所有未覆蓋的直轄市\r\n",
        "    for station, states_for_station in stations.items():\r\n",
        "        covered = states_needed & states_for_station  # 計算交集\r\n",
        "        if len(covered) > len(states_covered):\r\n",
        "            best_station = station\r\n",
        "            states_covered = covered\r\n",
        " \r\n",
        "    states_needed -= states_covered\r\n",
        "    final_stations.add(best_station)\r\n",
        " \r\n",
        "print(final_stations)"
      ],
      "execution_count": 30,
      "outputs": [
        {
          "output_type": "stream",
          "text": [
            "{'頂好', '家樂福', 'Costo', '統冠'}\n"
          ],
          "name": "stdout"
        }
      ]
    },
    {
      "cell_type": "markdown",
      "metadata": {
        "id": "uH2xdTyTj6Fa"
      },
      "source": [
        "**參考文獻**\r\n"
      ]
    },
    {
      "cell_type": "markdown",
      "metadata": {
        "id": "aMrNo6w4k-QB"
      },
      "source": [
        "【1】https://medium.com/@chiahunglin/%E6%88%91%E7%9A%84dsa%E6%97%A5%E8%A8%98-7-e15613948c91\r\n",
        "\r\n",
        "【2】https://blog.csdn.net/u012285175/article/details/85000732"
      ]
    }
  ]
}